{
  "nbformat": 4,
  "nbformat_minor": 0,
  "metadata": {
    "colab": {
      "provenance": []
    },
    "kernelspec": {
      "name": "python3",
      "display_name": "Python 3"
    },
    "language_info": {
      "name": "python"
    }
  },
  "cells": [
    {
      "cell_type": "code",
      "execution_count": 1,
      "metadata": {
        "id": "tm2BNfisDhFj"
      },
      "outputs": [],
      "source": [
        "from abc import ABC,abstractmethod"
      ]
    },
    {
      "cell_type": "code",
      "source": [
        "class person(ABC):\n",
        "    def __init__(self,name,age):\n",
        "        self.name=name\n",
        "        self.age=age"
      ],
      "metadata": {
        "id": "FhQtX-2rDqOk"
      },
      "execution_count": 2,
      "outputs": []
    },
    {
      "cell_type": "code",
      "source": [
        "class patient(person):\n",
        "    def __init__(self,name,age,medical_history):\n",
        "        super().__init__(name,age)\n",
        "        self.medical_history=medical_history\n",
        "    def get_details(self):\n",
        "        print(f\"Name: {self.name}, Age: {self.age}, Medical History: {self.medical_history}\")"
      ],
      "metadata": {
        "id": "ScExBHg-DxYM"
      },
      "execution_count": 3,
      "outputs": []
    },
    {
      "cell_type": "code",
      "source": [
        "class doctor(person):\n",
        "    def __init__(self,name,age,speciality):\n",
        "        super().__init__(name,age)\n",
        "        self.speciality=speciality\n",
        "    def get_details(self):\n",
        "        print(f\"Name: {self.name}, Age: {self.age}, Speciality: {self.speciality}\")"
      ],
      "metadata": {
        "id": "iwrJKlcxEJ_B"
      },
      "execution_count": 4,
      "outputs": []
    },
    {
      "cell_type": "code",
      "source": [
        "P = patient(\"John Doe\", 30, \"High blood pressure\")\n",
        "P.get_details()"
      ],
      "metadata": {
        "colab": {
          "base_uri": "https://localhost:8080/"
        },
        "id": "b1FVw0scEVw7",
        "outputId": "d1f8f9cc-add6-4834-ccdb-597f44c2e402"
      },
      "execution_count": 5,
      "outputs": [
        {
          "output_type": "stream",
          "name": "stdout",
          "text": [
            "Name: John Doe, Age: 30, Medical History: High blood pressure\n"
          ]
        }
      ]
    },
    {
      "cell_type": "code",
      "source": [
        "D = doctor(\"Dr. Smith\", 45, \"Cardiology\")\n",
        "D.get_details()"
      ],
      "metadata": {
        "colab": {
          "base_uri": "https://localhost:8080/"
        },
        "id": "Gikop-5QEZeR",
        "outputId": "a8efce46-da95-458c-ce61-c2d29fe61287"
      },
      "execution_count": 7,
      "outputs": [
        {
          "output_type": "stream",
          "name": "stdout",
          "text": [
            "Name: Dr. Smith, Age: 45, Speciality: Cardiology\n"
          ]
        }
      ]
    }
  ]
}