<<<<<<< HEAD
{
  "nbformat": 4,
  "nbformat_minor": 0,
  "metadata": {
    "colab": {
      "provenance": []
    },
    "kernelspec": {
      "name": "python3",
      "display_name": "Python 3"
    },
    "language_info": {
      "name": "python"
    }
  },
  "cells": [
    {
      "cell_type": "code",
      "execution_count": 9,
      "metadata": {
        "id": "TvuHI7gM_oR4"
      },
      "outputs": [],
      "source": [
        "from abc import ABC, abstractmethod"
      ]
    },
    {
      "cell_type": "markdown",
      "source": [
        "#class Travel"
      ],
      "metadata": {
        "id": "rjnx2PN_CDom"
      }
    },
    {
      "cell_type": "code",
      "source": [
        "class travel(ABC):\n",
        "  def __init__(self) -> None:\n",
        "    super().__init__()\n",
        "  @abstractmethod\n",
        "  def calculate_total_cost():\n",
        "    pass\n",
        "  @abstractmethod\n",
        "  def display_package_cost():\n",
        "    pass"
      ],
      "metadata": {
        "id": "8LzeW_BoBSP2"
      },
      "execution_count": 10,
      "outputs": []
    },
    {
      "cell_type": "markdown",
      "source": [
        "##class Hotel"
      ],
      "metadata": {
        "id": "GorS1cEuCGk0"
      }
    },
    {
      "cell_type": "code",
      "source": [
        "class hotel(travel):\n",
        "  def __init__(self,nights, cost_per_night) -> None:\n",
        "    self.nights = nights\n",
        "    self.cost_per_night = cost_per_night\n",
        "    super().__init__()\n",
        "  def calculate_total_cost(self):\n",
        "    return self.nights * self.cost_per_night\n",
        "  def display_package_cost(self):\n",
        "    print(self.calculate_total_cost())"
      ],
      "metadata": {
        "id": "2xVrTnHBCA4q"
      },
      "execution_count": 11,
      "outputs": []
    },
    {
      "cell_type": "markdown",
      "source": [
        "##class Tour"
      ],
      "metadata": {
        "id": "5PRXhCzhCnh8"
      }
    },
    {
      "cell_type": "code",
      "source": [
        "class tour(travel):\n",
        "  def __init__(self,days, cost_per_day) -> None:\n",
        "    self.days = days\n",
        "    self.cost_per_day = cost_per_day\n",
        "    super().__init__()\n",
        "  def calculate_total_cost(self):\n",
        "    return self.days * self.cost_per_day\n",
        "  def display_package_cost(self):\n",
        "    print(self.calculate_total_cost())"
      ],
      "metadata": {
        "id": "vy3jjZIbCmMA"
      },
      "execution_count": 12,
      "outputs": []
    },
    {
      "cell_type": "markdown",
      "source": [
        "#**Main**"
      ],
      "metadata": {
        "id": "TQSCeAufCxq-"
      }
    },
    {
      "cell_type": "code",
      "source": [
        "H = hotel(nights=5,cost_per_night=200)\n",
        "T = tour(days=7,cost_per_day=100)"
      ],
      "metadata": {
        "id": "YdDibnUGCwc3"
      },
      "execution_count": 13,
      "outputs": []
    },
    {
      "cell_type": "code",
      "source": [
        "print(H.calculate_total_cost())\n",
        "print(T.calculate_total_cost())"
      ],
      "metadata": {
        "colab": {
          "base_uri": "https://localhost:8080/"
        },
        "id": "vbCthGHwDDaJ",
        "outputId": "e7e674f5-1af5-48e3-c6b5-3dfe8ded07a4"
      },
      "execution_count": 14,
      "outputs": [
        {
          "output_type": "stream",
          "name": "stdout",
          "text": [
            "1000\n",
            "700\n"
          ]
        }
      ]
    }
  ]
=======
{
  "nbformat": 4,
  "nbformat_minor": 0,
  "metadata": {
    "colab": {
      "provenance": []
    },
    "kernelspec": {
      "name": "python3",
      "display_name": "Python 3"
    },
    "language_info": {
      "name": "python"
    }
  },
  "cells": [
    {
      "cell_type": "code",
      "execution_count": 9,
      "metadata": {
        "id": "TvuHI7gM_oR4"
      },
      "outputs": [],
      "source": [
        "from abc import ABC, abstractmethod"
      ]
    },
    {
      "cell_type": "markdown",
      "source": [
        "#class Travel"
      ],
      "metadata": {
        "id": "rjnx2PN_CDom"
      }
    },
    {
      "cell_type": "code",
      "source": [
        "class travel(ABC):\n",
        "  def __init__(self) -> None:\n",
        "    super().__init__()\n",
        "  @abstractmethod\n",
        "  def calculate_total_cost():\n",
        "    pass\n",
        "  @abstractmethod\n",
        "  def display_package_cost():\n",
        "    pass"
      ],
      "metadata": {
        "id": "8LzeW_BoBSP2"
      },
      "execution_count": 10,
      "outputs": []
    },
    {
      "cell_type": "markdown",
      "source": [
        "##class Hotel"
      ],
      "metadata": {
        "id": "GorS1cEuCGk0"
      }
    },
    {
      "cell_type": "code",
      "source": [
        "class hotel(travel):\n",
        "  def __init__(self,nights, cost_per_night) -> None:\n",
        "    self.nights = nights\n",
        "    self.cost_per_night = cost_per_night\n",
        "    super().__init__()\n",
        "  def calculate_total_cost(self):\n",
        "    return self.nights * self.cost_per_night\n",
        "  def display_package_cost(self):\n",
        "    print(self.calculate_total_cost())"
      ],
      "metadata": {
        "id": "2xVrTnHBCA4q"
      },
      "execution_count": 11,
      "outputs": []
    },
    {
      "cell_type": "markdown",
      "source": [
        "##class Tour"
      ],
      "metadata": {
        "id": "5PRXhCzhCnh8"
      }
    },
    {
      "cell_type": "code",
      "source": [
        "class tour(travel):\n",
        "  def __init__(self,days, cost_per_day) -> None:\n",
        "    self.days = days\n",
        "    self.cost_per_day = cost_per_day\n",
        "    super().__init__()\n",
        "  def calculate_total_cost(self):\n",
        "    return self.days * self.cost_per_day\n",
        "  def display_package_cost(self):\n",
        "    print(self.calculate_total_cost())"
      ],
      "metadata": {
        "id": "vy3jjZIbCmMA"
      },
      "execution_count": 12,
      "outputs": []
    },
    {
      "cell_type": "markdown",
      "source": [
        "#**Main**"
      ],
      "metadata": {
        "id": "TQSCeAufCxq-"
      }
    },
    {
      "cell_type": "code",
      "source": [
        "H = hotel(nights=5,cost_per_night=200)\n",
        "T = tour(days=7,cost_per_day=100)"
      ],
      "metadata": {
        "id": "YdDibnUGCwc3"
      },
      "execution_count": 13,
      "outputs": []
    },
    {
      "cell_type": "code",
      "source": [
        "print(H.calculate_total_cost())\n",
        "print(T.calculate_total_cost())"
      ],
      "metadata": {
        "colab": {
          "base_uri": "https://localhost:8080/"
        },
        "id": "vbCthGHwDDaJ",
        "outputId": "e7e674f5-1af5-48e3-c6b5-3dfe8ded07a4"
      },
      "execution_count": 14,
      "outputs": [
        {
          "output_type": "stream",
          "name": "stdout",
          "text": [
            "1000\n",
            "700\n"
          ]
        }
      ]
    }
  ]
>>>>>>> 56a94acd893caeb7746c79ef12f3cafac2754cb7
}