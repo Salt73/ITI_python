<<<<<<< HEAD
{
  "nbformat": 4,
  "nbformat_minor": 0,
  "metadata": {
    "colab": {
      "provenance": []
    },
    "kernelspec": {
      "name": "python3",
      "display_name": "Python 3"
    },
    "language_info": {
      "name": "python"
    }
  },
  "cells": [
    {
      "cell_type": "markdown",
      "source": [
        "#**Class Vacation**"
      ],
      "metadata": {
        "id": "bDS5Wtlw7-nM"
      }
    },
    {
      "cell_type": "code",
      "source": [
        "from abc import ABC, abstractmethod\n"
      ],
      "metadata": {
        "id": "YZ4lnql68Cl6"
      },
      "execution_count": 1,
      "outputs": []
    },
    {
      "cell_type": "code",
      "source": [
        "class vacation(ABC):\n",
        "\n",
        "  def __init__(self,destination,price) -> None:\n",
        "    self.destination = destination\n",
        "    self.price = price\n",
        "    super().__init__()\n",
        "  @abstractmethod\n",
        "  def display_details():\n",
        "      pass"
      ],
      "metadata": {
        "id": "GgchQBER8IbO"
      },
      "execution_count": 9,
      "outputs": []
    },
    {
      "cell_type": "markdown",
      "source": [
        "##class relaxation"
      ],
      "metadata": {
        "id": "q47LfmEY9VHu"
      }
    },
    {
      "cell_type": "code",
      "source": [
        "class relaxation(vacation):\n",
        "  def __init__(self,destination,price,spa_service) -> None:\n",
        "    self.spa_service = spa_service\n",
        "    super().__init__(destination,price)\n",
        "\n",
        "  def display_details(self):\n",
        "    print(f\"destination:{self.destination}\")\n",
        "    print(f\"price:{self.price}\")\n",
        "    print(f\"spa_service:{self.spa_service}\")"
      ],
      "metadata": {
        "id": "veIgNx4z9TK5"
      },
      "execution_count": 11,
      "outputs": []
    },
    {
      "cell_type": "markdown",
      "source": [
        "##class Adventure"
      ],
      "metadata": {
        "id": "__DgI01t96g2"
      }
    },
    {
      "cell_type": "code",
      "source": [
        "class adventure(vacation):\n",
        "  def __init__(self,destination,price,sea_acticities) -> None:\n",
        "    self.sea_acticities = sea_acticities\n",
        "    super().__init__(destination,price)\n",
        "\n",
        "  def display_details(self):\n",
        "    print(f\"destination:{self.destination}\")\n",
        "    print(f\"price:{self.price}\")\n",
        "    print(f\"sea_acticities:{self.sea_acticities}\")"
      ],
      "metadata": {
        "id": "oV2UfVBI9452"
      },
      "execution_count": 12,
      "outputs": []
    },
    {
      "cell_type": "markdown",
      "source": [
        "#**Main**"
      ],
      "metadata": {
        "id": "eBdO0C5P-LGM"
      }
    },
    {
      "cell_type": "code",
      "source": [
        "adventure = adventure(destination=\"turkey\",price=2500,sea_acticities=[\"hiking\",\"rafting\"])\n",
        "relax = relaxation(destination=\"italy\",price=3500,spa_service=[\"massage\",\"Yoga\"])"
      ],
      "metadata": {
        "id": "_nK75S8N-IzI"
      },
      "execution_count": 13,
      "outputs": []
    },
    {
      "cell_type": "code",
      "source": [
        "adventure.display_details()"
      ],
      "metadata": {
        "colab": {
          "base_uri": "https://localhost:8080/"
        },
        "id": "eVaPTsOf-xKC",
        "outputId": "e9cbc5e9-4622-495a-9e8c-5c349a7d3275"
      },
      "execution_count": 14,
      "outputs": [
        {
          "output_type": "stream",
          "name": "stdout",
          "text": [
            "destination:turkey\n",
            "price:2500\n",
            "sea_acticities:['hiking', 'rafting']\n"
          ]
        }
      ]
    },
    {
      "cell_type": "code",
      "source": [
        "relax.display_details()"
      ],
      "metadata": {
        "colab": {
          "base_uri": "https://localhost:8080/"
        },
        "id": "PeTvBpAR-zUO",
        "outputId": "b8edef05-f945-48d1-85ba-a78f02d31efe"
      },
      "execution_count": 15,
      "outputs": [
        {
          "output_type": "stream",
          "name": "stdout",
          "text": [
            "destination:italy\n",
            "price:3500\n",
            "spa_service:['massage', 'Yoga']\n"
          ]
        }
      ]
    }
  ]
=======
{
  "nbformat": 4,
  "nbformat_minor": 0,
  "metadata": {
    "colab": {
      "provenance": []
    },
    "kernelspec": {
      "name": "python3",
      "display_name": "Python 3"
    },
    "language_info": {
      "name": "python"
    }
  },
  "cells": [
    {
      "cell_type": "markdown",
      "source": [
        "#**Class Vacation**"
      ],
      "metadata": {
        "id": "bDS5Wtlw7-nM"
      }
    },
    {
      "cell_type": "code",
      "source": [
        "from abc import ABC, abstractmethod\n"
      ],
      "metadata": {
        "id": "YZ4lnql68Cl6"
      },
      "execution_count": 1,
      "outputs": []
    },
    {
      "cell_type": "code",
      "source": [
        "class vacation(ABC):\n",
        "\n",
        "  def __init__(self,destination,price) -> None:\n",
        "    self.destination = destination\n",
        "    self.price = price\n",
        "    super().__init__()\n",
        "  @abstractmethod\n",
        "  def display_details():\n",
        "      pass"
      ],
      "metadata": {
        "id": "GgchQBER8IbO"
      },
      "execution_count": 9,
      "outputs": []
    },
    {
      "cell_type": "markdown",
      "source": [
        "##class relaxation"
      ],
      "metadata": {
        "id": "q47LfmEY9VHu"
      }
    },
    {
      "cell_type": "code",
      "source": [
        "class relaxation(vacation):\n",
        "  def __init__(self,destination,price,spa_service) -> None:\n",
        "    self.spa_service = spa_service\n",
        "    super().__init__(destination,price)\n",
        "\n",
        "  def display_details(self):\n",
        "    print(f\"destination:{self.destination}\")\n",
        "    print(f\"price:{self.price}\")\n",
        "    print(f\"spa_service:{self.spa_service}\")"
      ],
      "metadata": {
        "id": "veIgNx4z9TK5"
      },
      "execution_count": 11,
      "outputs": []
    },
    {
      "cell_type": "markdown",
      "source": [
        "##class Adventure"
      ],
      "metadata": {
        "id": "__DgI01t96g2"
      }
    },
    {
      "cell_type": "code",
      "source": [
        "class adventure(vacation):\n",
        "  def __init__(self,destination,price,sea_acticities) -> None:\n",
        "    self.sea_acticities = sea_acticities\n",
        "    super().__init__(destination,price)\n",
        "\n",
        "  def display_details(self):\n",
        "    print(f\"destination:{self.destination}\")\n",
        "    print(f\"price:{self.price}\")\n",
        "    print(f\"sea_acticities:{self.sea_acticities}\")"
      ],
      "metadata": {
        "id": "oV2UfVBI9452"
      },
      "execution_count": 12,
      "outputs": []
    },
    {
      "cell_type": "markdown",
      "source": [
        "#**Main**"
      ],
      "metadata": {
        "id": "eBdO0C5P-LGM"
      }
    },
    {
      "cell_type": "code",
      "source": [
        "adventure = adventure(destination=\"turkey\",price=2500,sea_acticities=[\"hiking\",\"rafting\"])\n",
        "relax = relaxation(destination=\"italy\",price=3500,spa_service=[\"massage\",\"Yoga\"])"
      ],
      "metadata": {
        "id": "_nK75S8N-IzI"
      },
      "execution_count": 13,
      "outputs": []
    },
    {
      "cell_type": "code",
      "source": [
        "adventure.display_details()"
      ],
      "metadata": {
        "colab": {
          "base_uri": "https://localhost:8080/"
        },
        "id": "eVaPTsOf-xKC",
        "outputId": "e9cbc5e9-4622-495a-9e8c-5c349a7d3275"
      },
      "execution_count": 14,
      "outputs": [
        {
          "output_type": "stream",
          "name": "stdout",
          "text": [
            "destination:turkey\n",
            "price:2500\n",
            "sea_acticities:['hiking', 'rafting']\n"
          ]
        }
      ]
    },
    {
      "cell_type": "code",
      "source": [
        "relax.display_details()"
      ],
      "metadata": {
        "colab": {
          "base_uri": "https://localhost:8080/"
        },
        "id": "PeTvBpAR-zUO",
        "outputId": "b8edef05-f945-48d1-85ba-a78f02d31efe"
      },
      "execution_count": 15,
      "outputs": [
        {
          "output_type": "stream",
          "name": "stdout",
          "text": [
            "destination:italy\n",
            "price:3500\n",
            "spa_service:['massage', 'Yoga']\n"
          ]
        }
      ]
    }
  ]
>>>>>>> 56a94acd893caeb7746c79ef12f3cafac2754cb7
}