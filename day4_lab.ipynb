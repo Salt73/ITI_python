{
  "nbformat": 4,
  "nbformat_minor": 0,
  "metadata": {
    "colab": {
      "provenance": []
    },
    "kernelspec": {
      "name": "python3",
      "display_name": "Python 3"
    },
    "language_info": {
      "name": "python"
    }
  },
  "cells": [
    {
      "cell_type": "markdown",
      "source": [
        "#**Class Customer**"
      ],
      "metadata": {
        "id": "8V01cH6dRFY_"
      }
    },
    {
      "cell_type": "code",
      "execution_count": 17,
      "metadata": {
        "id": "j6gTRwoUOa-1"
      },
      "outputs": [],
      "source": [
        "class customer:\n",
        "  def __init__(self,name=None,address=None,id=None,phone=None):\n",
        "    self.name=name\n",
        "    self.address=address\n",
        "    self.id=id\n",
        "    self.phone=phone\n",
        "\n",
        "  def get_name(self):\n",
        "    return self.name\n",
        "  def get_address(self):\n",
        "    return self.address\n",
        "  def get_id(self):\n",
        "    return self.id\n",
        "  def get_phone(self):\n",
        "    return self.phone\n",
        "  def set_name(self,name):\n",
        "    self.name=name\n",
        "    return self.name\n",
        "  def set_address(self,address):\n",
        "    self.address=address\n",
        "    return self.address\n",
        "  def set_id(self,id):\n",
        "    self.id=id\n",
        "    return self.id\n",
        "  def set_phone(self,phone):\n",
        "    self.phone=phone\n",
        "    return self.phone"
      ]
    },
    {
      "cell_type": "markdown",
      "source": [
        "##child_class_company"
      ],
      "metadata": {
        "id": "FXnMQQ6kSQSi"
      }
    },
    {
      "cell_type": "code",
      "source": [
        "class company(customer):\n",
        "  def __init__(self,name=None,address=None,id=None,phone=None,contact=None,discount=None):\n",
        "    super().__init__(name,address,id,phone)\n",
        "    self.contact=contact\n",
        "    self.discount=discount\n",
        "  def get_contact(self):\n",
        "    return self.contact\n",
        "  def get_discount(self):\n",
        "    return self.discount\n",
        "  def set_contact(self,contact):\n",
        "    self.contact=contact\n",
        "    return self.contact\n",
        "  def set_discount(self,discount):\n",
        "    self.discount=discount\n",
        "    return self.discount"
      ],
      "metadata": {
        "id": "EE5dn8_bROL6"
      },
      "execution_count": 18,
      "outputs": []
    },
    {
      "cell_type": "markdown",
      "source": [
        "##child_class_Individual"
      ],
      "metadata": {
        "id": "JISnTbQVS5zj"
      }
    },
    {
      "cell_type": "code",
      "source": [
        "class Individual(customer):\n",
        "  def __init__(self,name=None,address=None,id=None,phone=None,licNumber=None):\n",
        "    super().__init__(name,address,id,phone)\n",
        "    self.licNumber=licNumber\n",
        "  def get_licNumber(self):\n",
        "    return self.licNumber\n",
        "  def set_licNumber(self,licNumber):\n",
        "    self.licNumber=licNumber\n",
        "    return self.licNumber"
      ],
      "metadata": {
        "id": "CdJVzMnjS9XX"
      },
      "execution_count": 19,
      "outputs": []
    },
    {
      "cell_type": "markdown",
      "source": [
        "#**Taxable**"
      ],
      "metadata": {
        "id": "tnNGCkIvWGx7"
      }
    },
    {
      "cell_type": "code",
      "source": [
        "class Taxable:\n",
        "  def __init__(self,tax=None):\n",
        "    self.tax=tax\n"
      ],
      "metadata": {
        "id": "AxVaGl-FWNkO"
      },
      "execution_count": 26,
      "outputs": []
    },
    {
      "cell_type": "markdown",
      "source": [
        "#**Class_Product**"
      ],
      "metadata": {
        "id": "8qG8rx8HTptj"
      }
    },
    {
      "cell_type": "code",
      "source": [
        "class product:\n",
        "  def __init__(self,name=None,id=None,retailprice=None,description=None):\n",
        "    self.name=name\n",
        "    self.id=id\n",
        "    self.retailprice=retailprice\n",
        "    self.description=description\n",
        "  def get_description(self):\n",
        "    return self.description"
      ],
      "metadata": {
        "id": "hXf6-6vKTs6_"
      },
      "execution_count": 21,
      "outputs": []
    },
    {
      "cell_type": "markdown",
      "source": [
        "##child_class_Hardware"
      ],
      "metadata": {
        "id": "ctQGPH4mUMuV"
      }
    },
    {
      "cell_type": "code",
      "source": [
        "class hardware(product,Taxable):\n",
        "  def __init__(self,name=None,id=None,retailprice=None,description=None,tax=None,warrantyPeriod=None):\n",
        "    super().__init__(name,id,retailprice,description)\n",
        "    super().__init__(tax)\n",
        "    self.warrantyPeriod=warrantyPeriod\n",
        "  def get_warrantyPeriod(self):\n",
        "    return self.warrantyPeriod\n",
        ""
      ],
      "metadata": {
        "id": "VnRuW4lLUQWp"
      },
      "execution_count": 27,
      "outputs": []
    },
    {
      "cell_type": "markdown",
      "source": [
        "##child_class_Manual"
      ],
      "metadata": {
        "id": "Glqxut77UsdM"
      }
    },
    {
      "cell_type": "code",
      "source": [
        "class manual(product):\n",
        "  def __init__(self,name=None,id=None,retailprice=None,description=None,publisher=None):\n",
        "    super().__init__(name,id,retailprice,description)\n",
        "    self.publisher=publisher\n",
        "    def get_publisher(self):\n",
        "       return self.publisher"
      ],
      "metadata": {
        "id": "0O_DC7C5Uv0p"
      },
      "execution_count": 23,
      "outputs": []
    },
    {
      "cell_type": "markdown",
      "source": [
        "##child_class_Software"
      ],
      "metadata": {
        "id": "tRJGUVnAVG9_"
      }
    },
    {
      "cell_type": "code",
      "source": [
        "class software(product):\n",
        "  def __init__(self,name=None,id=None,retailprice=None,description=None,license=None):\n",
        "    super().__init__(name,id,retailprice,description)\n",
        "    self.license=license"
      ],
      "metadata": {
        "id": "0Pe5hakzVL2x"
      },
      "execution_count": 24,
      "outputs": []
    },
    {
      "cell_type": "markdown",
      "source": [
        "#**Main programm**"
      ],
      "metadata": {
        "id": "tmkiUKVtXBR_"
      }
    },
    {
      "cell_type": "code",
      "source": [
        "company_obj = company()\n",
        "company_obj.set_name(\"company\")\n"
      ],
      "metadata": {
        "colab": {
          "base_uri": "https://localhost:8080/",
          "height": 35
        },
        "id": "Y60tqSKxXERM",
        "outputId": "e5868fd6-b981-409c-e0b7-df996cc1d2e2"
      },
      "execution_count": 30,
      "outputs": [
        {
          "output_type": "execute_result",
          "data": {
            "text/plain": [
              "'company'"
            ],
            "application/vnd.google.colaboratory.intrinsic+json": {
              "type": "string"
            }
          },
          "metadata": {},
          "execution_count": 30
        }
      ]
    },
    {
      "cell_type": "code",
      "source": [
        "print(company_obj.get_name())"
      ],
      "metadata": {
        "colab": {
          "base_uri": "https://localhost:8080/"
        },
        "id": "au8DlwO9XS3d",
        "outputId": "4bdc7a0e-b86e-48d1-8cd9-e8930cabcdbe"
      },
      "execution_count": 31,
      "outputs": [
        {
          "output_type": "stream",
          "name": "stdout",
          "text": [
            "company\n"
          ]
        }
      ]
    }
  ]
}